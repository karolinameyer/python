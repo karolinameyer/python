{
 "cells": [
  {
   "cell_type": "code",
   "execution_count": 1,
   "metadata": {},
   "outputs": [],
   "source": [
    "import numpy as np\n",
    "import pandas as pd\n",
    "import matplotlib.pyplot as plt\n",
    "%matplotlib inline"
   ]
  },
  {
   "cell_type": "markdown",
   "metadata": {},
   "source": [
    "# Data preparation"
   ]
  },
  {
   "cell_type": "code",
   "execution_count": 2,
   "metadata": {},
   "outputs": [
    {
     "data": {
      "text/html": [
       "<div>\n",
       "<style scoped>\n",
       "    .dataframe tbody tr th:only-of-type {\n",
       "        vertical-align: middle;\n",
       "    }\n",
       "\n",
       "    .dataframe tbody tr th {\n",
       "        vertical-align: top;\n",
       "    }\n",
       "\n",
       "    .dataframe thead th {\n",
       "        text-align: right;\n",
       "    }\n",
       "</style>\n",
       "<table border=\"1\" class=\"dataframe\">\n",
       "  <thead>\n",
       "    <tr style=\"text-align: right;\">\n",
       "      <th></th>\n",
       "      <th>Name</th>\n",
       "      <th>ZIP</th>\n",
       "      <th>City</th>\n",
       "      <th>Unnamed: 3</th>\n",
       "      <th>Web</th>\n",
       "      <th>Revenue (in thousands)</th>\n",
       "      <th>Employees</th>\n",
       "      <th>Area</th>\n",
       "      <th>Address</th>\n",
       "      <th>Region</th>\n",
       "    </tr>\n",
       "  </thead>\n",
       "  <tbody>\n",
       "    <tr>\n",
       "      <th>0</th>\n",
       "      <td>SCA HYGIENE PRODUCTS SL</td>\n",
       "      <td>43812</td>\n",
       "      <td>Puigpelat</td>\n",
       "      <td>977030600.0</td>\n",
       "      <td>www.sca.com</td>\n",
       "      <td>618000.0</td>\n",
       "      <td>1200</td>\n",
       "      <td>Industria</td>\n",
       "      <td>Ctra. Vilabella (km 2)</td>\n",
       "      <td>ALT CAMP</td>\n",
       "    </tr>\n",
       "    <tr>\n",
       "      <th>1</th>\n",
       "      <td>LEAR CORPORATION HOLDING SPAIN SLU</td>\n",
       "      <td>43800</td>\n",
       "      <td>Valls</td>\n",
       "      <td>977617100.0</td>\n",
       "      <td>www.lear.com</td>\n",
       "      <td>506088.0</td>\n",
       "      <td>1216</td>\n",
       "      <td>Industria</td>\n",
       "      <td>C/ Fusters, 54, Pol. Ind.</td>\n",
       "      <td>ALT CAMP</td>\n",
       "    </tr>\n",
       "    <tr>\n",
       "      <th>2</th>\n",
       "      <td>COVESTRO SL.</td>\n",
       "      <td>43110</td>\n",
       "      <td>Tarragona</td>\n",
       "      <td>977358100.0</td>\n",
       "      <td>www.bayer.es</td>\n",
       "      <td>300592.0</td>\n",
       "      <td>344</td>\n",
       "      <td>Petroquímica y plásticos</td>\n",
       "      <td>C/Entrevías (Pol. Ind. Químico Sur), s/n</td>\n",
       "      <td>TARRAGONES</td>\n",
       "    </tr>\n",
       "    <tr>\n",
       "      <th>3</th>\n",
       "      <td>ASOCIACIÓN NUCLEAR ASCÓ VANDELLÓS II AIE</td>\n",
       "      <td>43891</td>\n",
       "      <td>Vandellós l'Hospitalet de l'Infant</td>\n",
       "      <td>977818800.0</td>\n",
       "      <td>www.anav.es</td>\n",
       "      <td>276654.0</td>\n",
       "      <td>1047</td>\n",
       "      <td>Agua, Energía y Residuos</td>\n",
       "      <td>Ctra. Nacional  340 (km 1.123)</td>\n",
       "      <td>BAIX CAMP</td>\n",
       "    </tr>\n",
       "    <tr>\n",
       "      <th>4</th>\n",
       "      <td>BASF SONATRACH PROPANCHEM SA</td>\n",
       "      <td>43006</td>\n",
       "      <td>Tarragona</td>\n",
       "      <td>977256703.0</td>\n",
       "      <td>www.basf.es</td>\n",
       "      <td>276019.0</td>\n",
       "      <td>11</td>\n",
       "      <td>Petroquímica y plásticos</td>\n",
       "      <td>Ctra. Nacional  340 (km 1.156)</td>\n",
       "      <td>TARRAGONES</td>\n",
       "    </tr>\n",
       "  </tbody>\n",
       "</table>\n",
       "</div>"
      ],
      "text/plain": [
       "                                       Name    ZIP  \\\n",
       "0                   SCA HYGIENE PRODUCTS SL  43812   \n",
       "1        LEAR CORPORATION HOLDING SPAIN SLU  43800   \n",
       "2                              COVESTRO SL.  43110   \n",
       "3  ASOCIACIÓN NUCLEAR ASCÓ VANDELLÓS II AIE  43891   \n",
       "4              BASF SONATRACH PROPANCHEM SA  43006   \n",
       "\n",
       "                                 City   Unnamed: 3           Web  \\\n",
       "0                           Puigpelat  977030600.0   www.sca.com   \n",
       "1                               Valls  977617100.0  www.lear.com   \n",
       "2                           Tarragona  977358100.0  www.bayer.es   \n",
       "3  Vandellós l'Hospitalet de l'Infant  977818800.0   www.anav.es   \n",
       "4                           Tarragona  977256703.0   www.basf.es   \n",
       "\n",
       "   Revenue (in thousands) Employees                      Area  \\\n",
       "0                618000.0      1200                 Industria   \n",
       "1                506088.0      1216                 Industria   \n",
       "2                300592.0       344  Petroquímica y plásticos   \n",
       "3                276654.0      1047  Agua, Energía y Residuos   \n",
       "4                276019.0        11  Petroquímica y plásticos   \n",
       "\n",
       "                                    Address      Region  \n",
       "0                    Ctra. Vilabella (km 2)    ALT CAMP  \n",
       "1                 C/ Fusters, 54, Pol. Ind.    ALT CAMP  \n",
       "2  C/Entrevías (Pol. Ind. Químico Sur), s/n  TARRAGONES  \n",
       "3            Ctra. Nacional  340 (km 1.123)   BAIX CAMP  \n",
       "4            Ctra. Nacional  340 (km 1.156)  TARRAGONES  "
      ]
     },
     "execution_count": 2,
     "metadata": {},
     "output_type": "execute_result"
    }
   ],
   "source": [
    "df = pd.read_excel('company_data.xlsx')\n",
    "df.head()"
   ]
  },
  {
   "cell_type": "code",
   "execution_count": 3,
   "metadata": {},
   "outputs": [
    {
     "data": {
      "text/html": [
       "<div>\n",
       "<style scoped>\n",
       "    .dataframe tbody tr th:only-of-type {\n",
       "        vertical-align: middle;\n",
       "    }\n",
       "\n",
       "    .dataframe tbody tr th {\n",
       "        vertical-align: top;\n",
       "    }\n",
       "\n",
       "    .dataframe thead th {\n",
       "        text-align: right;\n",
       "    }\n",
       "</style>\n",
       "<table border=\"1\" class=\"dataframe\">\n",
       "  <thead>\n",
       "    <tr style=\"text-align: right;\">\n",
       "      <th></th>\n",
       "      <th>Name</th>\n",
       "      <th>Revenue_in_thousands</th>\n",
       "      <th>Employees</th>\n",
       "      <th>Area</th>\n",
       "      <th>Region</th>\n",
       "    </tr>\n",
       "  </thead>\n",
       "  <tbody>\n",
       "    <tr>\n",
       "      <th>0</th>\n",
       "      <td>SCA HYGIENE PRODUCTS SL</td>\n",
       "      <td>618000.0</td>\n",
       "      <td>1200</td>\n",
       "      <td>Industria</td>\n",
       "      <td>ALT CAMP</td>\n",
       "    </tr>\n",
       "    <tr>\n",
       "      <th>1</th>\n",
       "      <td>LEAR CORPORATION HOLDING SPAIN SLU</td>\n",
       "      <td>506088.0</td>\n",
       "      <td>1216</td>\n",
       "      <td>Industria</td>\n",
       "      <td>ALT CAMP</td>\n",
       "    </tr>\n",
       "    <tr>\n",
       "      <th>2</th>\n",
       "      <td>COVESTRO SL.</td>\n",
       "      <td>300592.0</td>\n",
       "      <td>344</td>\n",
       "      <td>Petroquímica y plásticos</td>\n",
       "      <td>TARRAGONES</td>\n",
       "    </tr>\n",
       "    <tr>\n",
       "      <th>3</th>\n",
       "      <td>ASOCIACIÓN NUCLEAR ASCÓ VANDELLÓS II AIE</td>\n",
       "      <td>276654.0</td>\n",
       "      <td>1047</td>\n",
       "      <td>Agua, Energía y Residuos</td>\n",
       "      <td>BAIX CAMP</td>\n",
       "    </tr>\n",
       "    <tr>\n",
       "      <th>4</th>\n",
       "      <td>BASF SONATRACH PROPANCHEM SA</td>\n",
       "      <td>276019.0</td>\n",
       "      <td>11</td>\n",
       "      <td>Petroquímica y plásticos</td>\n",
       "      <td>TARRAGONES</td>\n",
       "    </tr>\n",
       "  </tbody>\n",
       "</table>\n",
       "</div>"
      ],
      "text/plain": [
       "                                       Name  Revenue_in_thousands Employees  \\\n",
       "0                   SCA HYGIENE PRODUCTS SL              618000.0      1200   \n",
       "1        LEAR CORPORATION HOLDING SPAIN SLU              506088.0      1216   \n",
       "2                              COVESTRO SL.              300592.0       344   \n",
       "3  ASOCIACIÓN NUCLEAR ASCÓ VANDELLÓS II AIE              276654.0      1047   \n",
       "4              BASF SONATRACH PROPANCHEM SA              276019.0        11   \n",
       "\n",
       "                       Area      Region  \n",
       "0                 Industria    ALT CAMP  \n",
       "1                 Industria    ALT CAMP  \n",
       "2  Petroquímica y plásticos  TARRAGONES  \n",
       "3  Agua, Energía y Residuos   BAIX CAMP  \n",
       "4  Petroquímica y plásticos  TARRAGONES  "
      ]
     },
     "execution_count": 3,
     "metadata": {},
     "output_type": "execute_result"
    }
   ],
   "source": [
    "df = df.rename(columns={'Revenue (in thousands)': 'Revenue_in_thousands'})\n",
    "company_df = df[['Name', 'Revenue_in_thousands', 'Employees', 'Area', 'Region']]\n",
    "company_df.head()"
   ]
  },
  {
   "cell_type": "code",
   "execution_count": 4,
   "metadata": {},
   "outputs": [
    {
     "name": "stdout",
     "output_type": "stream",
     "text": [
      "<class 'pandas.core.frame.DataFrame'>\n",
      "RangeIndex: 809 entries, 0 to 808\n",
      "Data columns (total 5 columns):\n",
      " #   Column                Non-Null Count  Dtype  \n",
      "---  ------                --------------  -----  \n",
      " 0   Name                  809 non-null    object \n",
      " 1   Revenue_in_thousands  809 non-null    float64\n",
      " 2   Employees             809 non-null    object \n",
      " 3   Area                  809 non-null    object \n",
      " 4   Region                801 non-null    object \n",
      "dtypes: float64(1), object(4)\n",
      "memory usage: 31.7+ KB\n"
     ]
    }
   ],
   "source": [
    "company_df.info()"
   ]
  },
  {
   "cell_type": "code",
   "execution_count": 6,
   "metadata": {},
   "outputs": [
    {
     "name": "stderr",
     "output_type": "stream",
     "text": [
      "C:\\Users\\Kaja\\anaconda3\\lib\\site-packages\\ipykernel_launcher.py:1: SettingWithCopyWarning: \n",
      "A value is trying to be set on a copy of a slice from a DataFrame.\n",
      "Try using .loc[row_indexer,col_indexer] = value instead\n",
      "\n",
      "See the caveats in the documentation: https://pandas.pydata.org/pandas-docs/stable/user_guide/indexing.html#returning-a-view-versus-a-copy\n",
      "  \"\"\"Entry point for launching an IPython kernel.\n"
     ]
    }
   ],
   "source": [
    "company_df['Area'] = company_df['Area'].str.upper()  #ensuring that all the values are unambiguous"
   ]
  },
  {
   "cell_type": "markdown",
   "metadata": {},
   "source": [
    "# Distribution of companies by revenue/emploees number"
   ]
  },
  {
   "cell_type": "code",
   "execution_count": 9,
   "metadata": {},
   "outputs": [],
   "source": [
    "plt.style.use('seaborn')"
   ]
  },
  {
   "cell_type": "code",
   "execution_count": 198,
   "metadata": {},
   "outputs": [
    {
     "data": {
      "text/plain": [
       "Text(0.5, 0, 'Revenue in thousands')"
      ]
     },
     "execution_count": 198,
     "metadata": {},
     "output_type": "execute_result"
    },
    {
     "data": {
      "image/png": "[encoded data removed]",
      "text/plain": [
       "<Figure size 576x396 with 1 Axes>"
      ]
     },
     "metadata": {},
     "output_type": "display_data"
    }
   ],
   "source": [
    "threshold = 50000\n",
    "rev_filter = company_df['Revenue_in_thousands'] < threshold\n",
    "company_df.loc[rev_filter,'Revenue_in_thousands'].hist(bins=30,edgecolor='black')\n",
    "plt.title(f\"Distribution of the companies's revenue, where revenue is not greater than {threshold}K\", size = 14)\n",
    "plt.xlabel('Revenue in thousands', size = 12)\n",
    "# plt.ylim(bottom=0,top=250)"
   ]
  },
  {
   "cell_type": "code",
   "execution_count": 11,
   "metadata": {},
   "outputs": [],
   "source": [
    "# rev_filter = company_df['Revenue_in_thousands'] >= threshold\n",
    "# company_df.loc[rev_filter,'Revenue_in_thousands'].hist(bins=30,edgecolor='black')\n",
    "# plt.title(f\"Distribution of the companies's revenue, where revenue is larger than or equal {threshold}K\")\n",
    "# plt.xlabel('Revenue in thousands')"
   ]
  },
  {
   "cell_type": "code",
   "execution_count": 12,
   "metadata": {},
   "outputs": [
    {
     "name": "stdout",
     "output_type": "stream",
     "text": [
      "n.d.\n"
     ]
    }
   ],
   "source": [
    "unique = company_df['Employees'].unique()\n",
    "for el in unique:\n",
    "    if not isinstance(el, int):\n",
    "        print(el)"
   ]
  },
  {
   "cell_type": "code",
   "execution_count": 13,
   "metadata": {},
   "outputs": [],
   "source": [
    "empl_filter1 = company_df['Employees'] == 'n.d.' #dropping rows with \"n.d.\" value as 'Employees'\n",
    "empl_df = company_df[~empl_filter1]"
   ]
  },
  {
   "cell_type": "code",
   "execution_count": 14,
   "metadata": {},
   "outputs": [
    {
     "data": {
      "text/plain": [
       "Text(0.5, 0, 'Revenue in thousands')"
      ]
     },
     "execution_count": 14,
     "metadata": {},
     "output_type": "execute_result"
    },
    {
     "data": {
      "image/png": "[encoded data removed]",
      "text/plain": [
       "<Figure size 576x396 with 1 Axes>"
      ]
     },
     "metadata": {},
     "output_type": "display_data"
    }
   ],
   "source": [
    "empl_filter2 = empl_df['Employees'] < 300\n",
    "empl_df.loc[empl_filter2, 'Employees'].hist(bins=30,edgecolor='black')\n",
    "plt.title(f\"Distribution of the companies's number of employees, where the number not greater than 300\", size = 14)\n",
    "plt.xlabel('Revenue in thousands')"
   ]
  },
  {
   "cell_type": "code",
   "execution_count": 15,
   "metadata": {},
   "outputs": [],
   "source": [
    "# empl_filter2 = empl_df['Employees'] > 300\n",
    "# empl_df.loc[empl_filter2, 'Employees'].hist(bins=30,edgecolor='black')"
   ]
  },
  {
   "cell_type": "code",
   "execution_count": 16,
   "metadata": {},
   "outputs": [],
   "source": [
    "# company_df['Area'].value_counts()"
   ]
  },
  {
   "cell_type": "code",
   "execution_count": 17,
   "metadata": {
    "scrolled": true
   },
   "outputs": [],
   "source": []
  },
  {
   "cell_type": "markdown",
   "metadata": {},
   "source": [
    "# Areas by empl, revenue, counts"
   ]
  },
  {
   "cell_type": "code",
   "execution_count": 30,
   "metadata": {},
   "outputs": [],
   "source": [
    "#create df with revenues, employees and number of companies grouped by areas\n",
    "areas_r = company_df.groupby('Area').Revenue_in_thousands.sum().sort_values(ascending=False)\n",
    "areas_e = empl_df.groupby('Area').Employees.sum().sort_values(ascending=False)\n",
    "bar_df = areas_r.to_frame()\n",
    "bar_df['Employees'] = areas_e\n",
    "bar_df['Number_of_companies'] = company_df['Area'].value_counts()"
   ]
  },
  {
   "cell_type": "code",
   "execution_count": 31,
   "metadata": {},
   "outputs": [
    {
     "data": {
      "image/png": "[encoded data removed]",
      "text/plain": [
       "<Figure size 720x720 with 3 Axes>"
      ]
     },
     "metadata": {},
     "output_type": "display_data"
    }
   ],
   "source": [
    "axes = bar_df.plot.bar(rot=90, subplots=True,figsize =(10,10), fontsize= 12)"
   ]
  },
  {
   "cell_type": "markdown",
   "metadata": {},
   "source": [
    "# Division of revenue/employees by region"
   ]
  },
  {
   "cell_type": "code",
   "execution_count": 182,
   "metadata": {},
   "outputs": [
    {
     "data": {
      "text/plain": [
       "(10, 10)"
      ]
     },
     "execution_count": 182,
     "metadata": {},
     "output_type": "execute_result"
    }
   ],
   "source": [
    "company_df['Region'].value_counts().count(), empl_df['Region'].value_counts().count()"
   ]
  },
  {
   "cell_type": "code",
   "execution_count": 183,
   "metadata": {},
   "outputs": [
    {
     "data": {
      "text/plain": [
       "True"
      ]
     },
     "execution_count": 183,
     "metadata": {},
     "output_type": "execute_result"
    }
   ],
   "source": [
    "#preparing revenue data\n",
    "region_r = company_df.groupby('Region').Revenue_in_thousands.sum().sort_values(ascending=False)\n",
    "top_region_r = company_df.groupby('Region').Revenue_in_thousands.sum().sort_values(ascending=False).head(4)\n",
    "other_region_r = company_df.groupby('Region').Revenue_in_thousands.sum().sort_values(ascending=False).tail(6)\n",
    "top_region_r['OTHERS'] = other_region_r.sum()\n",
    "top_region_r.sum() == region_r.sum() #checking if no values have been missed"
   ]
  },
  {
   "cell_type": "code",
   "execution_count": 184,
   "metadata": {},
   "outputs": [
    {
     "data": {
      "text/plain": [
       "True"
      ]
     },
     "execution_count": 184,
     "metadata": {},
     "output_type": "execute_result"
    }
   ],
   "source": [
    "#preparing employees data\n",
    "region_e = empl_df.groupby('Region').Employees.sum().sort_values(ascending=False)\n",
    "top_region_e = empl_df.groupby('Region').Employees.sum().sort_values(ascending=False).head(4)\n",
    "other_region_e = empl_df.groupby('Region').Employees.sum().sort_values(ascending=False).tail(6)\n",
    "top_region_e['OTHERS'] = other_region_e.sum()\n",
    "top_region_e.sum() == region_e.sum() #checking if no values have been missed"
   ]
  },
  {
   "cell_type": "code",
   "execution_count": 185,
   "metadata": {},
   "outputs": [],
   "source": [
    "# plt.plot(top_region_r.index, top_region_r.values)\n",
    "# plt.xticks(rotation = 90)\n",
    "# # plt.axis(xmin=1880, xmax=2018)"
   ]
  },
  {
   "cell_type": "code",
   "execution_count": 192,
   "metadata": {},
   "outputs": [
    {
     "data": {
      "image/png": "[encoded data removed]",
      "text/plain": [
       "<Figure size 1080x1080 with 2 Axes>"
      ]
     },
     "metadata": {},
     "output_type": "display_data"
    }
   ],
   "source": [
    "colors = ['#8dd3c7','#ffffb3','#bebada','#fb8072','#80b1d3']\n",
    "fig, [ax1, ax2] = plt.subplots(ncols=2,figsize=(15,15))\n",
    "\n",
    "# first plot\n",
    "patches, texts, autotexts = ax1.pie(top_region_r[::-1].values, labels=top_region_r[::-1].index, colors=colors, \n",
    "                                   startangle=90,autopct='%1.1f%%')\n",
    "ax1.set_title('Total revenue divided by region',fontsize=14)\n",
    "for i in range(5):\n",
    "    texts[i].set_fontsize(12)\n",
    "    autotexts[i].set_fontsize(13)\n",
    "\n",
    "# second plot\n",
    "patches, texts, autotexts = ax2.pie(top_region_e[::-1].values, labels=top_region_e[::-1].index, colors=colors, \n",
    "                                   startangle=90,autopct='%1.1f%%')\n",
    "ax2.set_title('Total employees divided by region',fontsize=14)\n",
    "for i in range(5):\n",
    "    texts[i].set_fontsize(12)\n",
    "    autotexts[i].set_fontsize(13)"
   ]
  },
  {
   "cell_type": "code",
   "execution_count": null,
   "metadata": {},
   "outputs": [],
   "source": []
  },
  {
   "cell_type": "code",
   "execution_count": 194,
   "metadata": {},
   "outputs": [],
   "source": [
    "df2 = pd.read_excel('company_data.xlsx', 'Benefits')"
   ]
  },
  {
   "cell_type": "code",
   "execution_count": 201,
   "metadata": {},
   "outputs": [],
   "source": [
    "benefits_by_name = df2.set_index('Name')"
   ]
  },
  {
   "cell_type": "code",
   "execution_count": 203,
   "metadata": {},
   "outputs": [
    {
     "data": {
      "text/plain": [
       "Name\n",
       "BASF SONATRACH PROPANCHEM SA          50710.00000\n",
       "PORT AVENTURA ENTERTAINMENT SAU       29931.00000\n",
       "LEAR CORPORATION HOLDING SPAIN SLU    28332.00000\n",
       "TECHNICAL MINDS INVESTMENT SL         21077.33177\n",
       "APPLUS IDIADA                         13897.00000\n",
       "                                         ...     \n",
       "ROCAMORA NOVA SL.                      -144.92905\n",
       "IMMO MODOIS SL                         -145.33582\n",
       "CONSTRUCCIONS ARAYO ARDIT SL           -145.42563\n",
       "VENDISTARRACO SL                       -145.96200\n",
       "FUNDACIÓ PER A. L. ATENCIÓ SOCIAL      -146.83946\n",
       "Name: Benefits (in thousands), Length: 12479, dtype: float64"
      ]
     },
     "execution_count": 203,
     "metadata": {},
     "output_type": "execute_result"
    }
   ],
   "source": [
    "benefits_by_name['Benefits (in thousands)']"
   ]
  },
  {
   "cell_type": "code",
   "execution_count": 199,
   "metadata": {},
   "outputs": [],
   "source": [
    "companies_by_name = company_df.set_index('Name')"
   ]
  },
  {
   "cell_type": "code",
   "execution_count": 200,
   "metadata": {},
   "outputs": [
    {
     "data": {
      "text/html": [
       "<div>\n",
       "<style scoped>\n",
       "    .dataframe tbody tr th:only-of-type {\n",
       "        vertical-align: middle;\n",
       "    }\n",
       "\n",
       "    .dataframe tbody tr th {\n",
       "        vertical-align: top;\n",
       "    }\n",
       "\n",
       "    .dataframe thead th {\n",
       "        text-align: right;\n",
       "    }\n",
       "</style>\n",
       "<table border=\"1\" class=\"dataframe\">\n",
       "  <thead>\n",
       "    <tr style=\"text-align: right;\">\n",
       "      <th></th>\n",
       "      <th>Revenue_in_thousands</th>\n",
       "      <th>Employees</th>\n",
       "      <th>Area</th>\n",
       "      <th>Region</th>\n",
       "    </tr>\n",
       "    <tr>\n",
       "      <th>Name</th>\n",
       "      <th></th>\n",
       "      <th></th>\n",
       "      <th></th>\n",
       "      <th></th>\n",
       "    </tr>\n",
       "  </thead>\n",
       "  <tbody>\n",
       "    <tr>\n",
       "      <th>SCA HYGIENE PRODUCTS SL</th>\n",
       "      <td>618000.00000</td>\n",
       "      <td>1200</td>\n",
       "      <td>INDUSTRIA</td>\n",
       "      <td>ALT CAMP</td>\n",
       "    </tr>\n",
       "    <tr>\n",
       "      <th>LEAR CORPORATION HOLDING SPAIN SLU</th>\n",
       "      <td>506088.00000</td>\n",
       "      <td>1216</td>\n",
       "      <td>INDUSTRIA</td>\n",
       "      <td>ALT CAMP</td>\n",
       "    </tr>\n",
       "    <tr>\n",
       "      <th>COVESTRO SL.</th>\n",
       "      <td>300592.00000</td>\n",
       "      <td>344</td>\n",
       "      <td>PETROQUÍMICA Y PLÁSTICOS</td>\n",
       "      <td>TARRAGONES</td>\n",
       "    </tr>\n",
       "    <tr>\n",
       "      <th>ASOCIACIÓN NUCLEAR ASCÓ VANDELLÓS II AIE</th>\n",
       "      <td>276654.00000</td>\n",
       "      <td>1047</td>\n",
       "      <td>AGUA, ENERGÍA Y RESIDUOS</td>\n",
       "      <td>BAIX CAMP</td>\n",
       "    </tr>\n",
       "    <tr>\n",
       "      <th>BASF SONATRACH PROPANCHEM SA</th>\n",
       "      <td>276019.00000</td>\n",
       "      <td>11</td>\n",
       "      <td>PETROQUÍMICA Y PLÁSTICOS</td>\n",
       "      <td>TARRAGONES</td>\n",
       "    </tr>\n",
       "    <tr>\n",
       "      <th>...</th>\n",
       "      <td>...</td>\n",
       "      <td>...</td>\n",
       "      <td>...</td>\n",
       "      <td>...</td>\n",
       "    </tr>\n",
       "    <tr>\n",
       "      <th>TRIPER SA</th>\n",
       "      <td>38.16768</td>\n",
       "      <td>1</td>\n",
       "      <td>AGUA, ENERGÍA Y RESIDUOS</td>\n",
       "      <td>MONTSIÀ</td>\n",
       "    </tr>\n",
       "    <tr>\n",
       "      <th>ESPAI SOTA ZERO SL.</th>\n",
       "      <td>38.10019</td>\n",
       "      <td>n.d.</td>\n",
       "      <td>AGUA, ENERGÍA Y RESIDUOS</td>\n",
       "      <td>BAIX EBRE</td>\n",
       "    </tr>\n",
       "    <tr>\n",
       "      <th>SOLARNAU ENERGIA SL</th>\n",
       "      <td>37.82391</td>\n",
       "      <td>n.d.</td>\n",
       "      <td>AGUA, ENERGÍA Y RESIDUOS</td>\n",
       "      <td>BAIX CAMP</td>\n",
       "    </tr>\n",
       "    <tr>\n",
       "      <th>MARBET 2010 SL</th>\n",
       "      <td>35.45571</td>\n",
       "      <td>1</td>\n",
       "      <td>AGUA, ENERGÍA Y RESIDUOS</td>\n",
       "      <td>BAIX PENEDES</td>\n",
       "    </tr>\n",
       "    <tr>\n",
       "      <th>ENERSOL RECASENS SL</th>\n",
       "      <td>34.89629</td>\n",
       "      <td>n.d.</td>\n",
       "      <td>AGUA, ENERGÍA Y RESIDUOS</td>\n",
       "      <td>BAIX PENEDES</td>\n",
       "    </tr>\n",
       "  </tbody>\n",
       "</table>\n",
       "<p>809 rows × 4 columns</p>\n",
       "</div>"
      ],
      "text/plain": [
       "                                          Revenue_in_thousands Employees  \\\n",
       "Name                                                                       \n",
       "SCA HYGIENE PRODUCTS SL                           618000.00000      1200   \n",
       "LEAR CORPORATION HOLDING SPAIN SLU                506088.00000      1216   \n",
       "COVESTRO SL.                                      300592.00000       344   \n",
       "ASOCIACIÓN NUCLEAR ASCÓ VANDELLÓS II AIE          276654.00000      1047   \n",
       "BASF SONATRACH PROPANCHEM SA                      276019.00000        11   \n",
       "...                                                        ...       ...   \n",
       "TRIPER SA                                             38.16768         1   \n",
       "ESPAI SOTA ZERO SL.                                   38.10019      n.d.   \n",
       "SOLARNAU ENERGIA SL                                   37.82391      n.d.   \n",
       "MARBET 2010 SL                                        35.45571         1   \n",
       "ENERSOL RECASENS SL                                   34.89629      n.d.   \n",
       "\n",
       "                                                              Area  \\\n",
       "Name                                                                 \n",
       "SCA HYGIENE PRODUCTS SL                                  INDUSTRIA   \n",
       "LEAR CORPORATION HOLDING SPAIN SLU                       INDUSTRIA   \n",
       "COVESTRO SL.                              PETROQUÍMICA Y PLÁSTICOS   \n",
       "ASOCIACIÓN NUCLEAR ASCÓ VANDELLÓS II AIE  AGUA, ENERGÍA Y RESIDUOS   \n",
       "BASF SONATRACH PROPANCHEM SA              PETROQUÍMICA Y PLÁSTICOS   \n",
       "...                                                            ...   \n",
       "TRIPER SA                                 AGUA, ENERGÍA Y RESIDUOS   \n",
       "ESPAI SOTA ZERO SL.                       AGUA, ENERGÍA Y RESIDUOS   \n",
       "SOLARNAU ENERGIA SL                       AGUA, ENERGÍA Y RESIDUOS   \n",
       "MARBET 2010 SL                            AGUA, ENERGÍA Y RESIDUOS   \n",
       "ENERSOL RECASENS SL                       AGUA, ENERGÍA Y RESIDUOS   \n",
       "\n",
       "                                                Region  \n",
       "Name                                                    \n",
       "SCA HYGIENE PRODUCTS SL                       ALT CAMP  \n",
       "LEAR CORPORATION HOLDING SPAIN SLU            ALT CAMP  \n",
       "COVESTRO SL.                                TARRAGONES  \n",
       "ASOCIACIÓN NUCLEAR ASCÓ VANDELLÓS II AIE     BAIX CAMP  \n",
       "BASF SONATRACH PROPANCHEM SA                TARRAGONES  \n",
       "...                                                ...  \n",
       "TRIPER SA                                      MONTSIÀ  \n",
       "ESPAI SOTA ZERO SL.                          BAIX EBRE  \n",
       "SOLARNAU ENERGIA SL                          BAIX CAMP  \n",
       "MARBET 2010 SL                            BAIX PENEDES  \n",
       "ENERSOL RECASENS SL                       BAIX PENEDES  \n",
       "\n",
       "[809 rows x 4 columns]"
      ]
     },
     "execution_count": 200,
     "metadata": {},
     "output_type": "execute_result"
    }
   ],
   "source": [
    "companies_by_name"
   ]
  },
  {
   "cell_type": "code",
   "execution_count": 222,
   "metadata": {},
   "outputs": [],
   "source": [
    "companies_by_name['Benefits_in_thousands'] = benefits_by_name['Benefits (in thousands)']"
   ]
  },
  {
   "cell_type": "code",
   "execution_count": 223,
   "metadata": {},
   "outputs": [
    {
     "data": {
      "text/html": [
       "<div>\n",
       "<style scoped>\n",
       "    .dataframe tbody tr th:only-of-type {\n",
       "        vertical-align: middle;\n",
       "    }\n",
       "\n",
       "    .dataframe tbody tr th {\n",
       "        vertical-align: top;\n",
       "    }\n",
       "\n",
       "    .dataframe thead th {\n",
       "        text-align: right;\n",
       "    }\n",
       "</style>\n",
       "<table border=\"1\" class=\"dataframe\">\n",
       "  <thead>\n",
       "    <tr style=\"text-align: right;\">\n",
       "      <th></th>\n",
       "      <th>Revenue_in_thousands</th>\n",
       "      <th>Employees</th>\n",
       "      <th>Area</th>\n",
       "      <th>Region</th>\n",
       "      <th>Benefits_in_thousands</th>\n",
       "    </tr>\n",
       "    <tr>\n",
       "      <th>Name</th>\n",
       "      <th></th>\n",
       "      <th></th>\n",
       "      <th></th>\n",
       "      <th></th>\n",
       "      <th></th>\n",
       "    </tr>\n",
       "  </thead>\n",
       "  <tbody>\n",
       "    <tr>\n",
       "      <th>SCA HYGIENE PRODUCTS SL</th>\n",
       "      <td>618000.00000</td>\n",
       "      <td>1200</td>\n",
       "      <td>INDUSTRIA</td>\n",
       "      <td>ALT CAMP</td>\n",
       "      <td>NaN</td>\n",
       "    </tr>\n",
       "    <tr>\n",
       "      <th>LEAR CORPORATION HOLDING SPAIN SLU</th>\n",
       "      <td>506088.00000</td>\n",
       "      <td>1216</td>\n",
       "      <td>INDUSTRIA</td>\n",
       "      <td>ALT CAMP</td>\n",
       "      <td>28332.00000</td>\n",
       "    </tr>\n",
       "    <tr>\n",
       "      <th>COVESTRO SL.</th>\n",
       "      <td>300592.00000</td>\n",
       "      <td>344</td>\n",
       "      <td>PETROQUÍMICA Y PLÁSTICOS</td>\n",
       "      <td>TARRAGONES</td>\n",
       "      <td>NaN</td>\n",
       "    </tr>\n",
       "    <tr>\n",
       "      <th>ASOCIACIÓN NUCLEAR ASCÓ VANDELLÓS II AIE</th>\n",
       "      <td>276654.00000</td>\n",
       "      <td>1047</td>\n",
       "      <td>AGUA, ENERGÍA Y RESIDUOS</td>\n",
       "      <td>BAIX CAMP</td>\n",
       "      <td>NaN</td>\n",
       "    </tr>\n",
       "    <tr>\n",
       "      <th>BASF SONATRACH PROPANCHEM SA</th>\n",
       "      <td>276019.00000</td>\n",
       "      <td>11</td>\n",
       "      <td>PETROQUÍMICA Y PLÁSTICOS</td>\n",
       "      <td>TARRAGONES</td>\n",
       "      <td>50710.00000</td>\n",
       "    </tr>\n",
       "    <tr>\n",
       "      <th>...</th>\n",
       "      <td>...</td>\n",
       "      <td>...</td>\n",
       "      <td>...</td>\n",
       "      <td>...</td>\n",
       "      <td>...</td>\n",
       "    </tr>\n",
       "    <tr>\n",
       "      <th>TRIPER SA</th>\n",
       "      <td>38.16768</td>\n",
       "      <td>1</td>\n",
       "      <td>AGUA, ENERGÍA Y RESIDUOS</td>\n",
       "      <td>MONTSIÀ</td>\n",
       "      <td>575.71088</td>\n",
       "    </tr>\n",
       "    <tr>\n",
       "      <th>ESPAI SOTA ZERO SL.</th>\n",
       "      <td>38.10019</td>\n",
       "      <td>n.d.</td>\n",
       "      <td>AGUA, ENERGÍA Y RESIDUOS</td>\n",
       "      <td>BAIX EBRE</td>\n",
       "      <td>-21.78402</td>\n",
       "    </tr>\n",
       "    <tr>\n",
       "      <th>SOLARNAU ENERGIA SL</th>\n",
       "      <td>37.82391</td>\n",
       "      <td>n.d.</td>\n",
       "      <td>AGUA, ENERGÍA Y RESIDUOS</td>\n",
       "      <td>BAIX CAMP</td>\n",
       "      <td>10.25944</td>\n",
       "    </tr>\n",
       "    <tr>\n",
       "      <th>MARBET 2010 SL</th>\n",
       "      <td>35.45571</td>\n",
       "      <td>1</td>\n",
       "      <td>AGUA, ENERGÍA Y RESIDUOS</td>\n",
       "      <td>BAIX PENEDES</td>\n",
       "      <td>-6.35468</td>\n",
       "    </tr>\n",
       "    <tr>\n",
       "      <th>ENERSOL RECASENS SL</th>\n",
       "      <td>34.89629</td>\n",
       "      <td>n.d.</td>\n",
       "      <td>AGUA, ENERGÍA Y RESIDUOS</td>\n",
       "      <td>BAIX PENEDES</td>\n",
       "      <td>-12.20039</td>\n",
       "    </tr>\n",
       "  </tbody>\n",
       "</table>\n",
       "<p>809 rows × 5 columns</p>\n",
       "</div>"
      ],
      "text/plain": [
       "                                          Revenue_in_thousands Employees  \\\n",
       "Name                                                                       \n",
       "SCA HYGIENE PRODUCTS SL                           618000.00000      1200   \n",
       "LEAR CORPORATION HOLDING SPAIN SLU                506088.00000      1216   \n",
       "COVESTRO SL.                                      300592.00000       344   \n",
       "ASOCIACIÓN NUCLEAR ASCÓ VANDELLÓS II AIE          276654.00000      1047   \n",
       "BASF SONATRACH PROPANCHEM SA                      276019.00000        11   \n",
       "...                                                        ...       ...   \n",
       "TRIPER SA                                             38.16768         1   \n",
       "ESPAI SOTA ZERO SL.                                   38.10019      n.d.   \n",
       "SOLARNAU ENERGIA SL                                   37.82391      n.d.   \n",
       "MARBET 2010 SL                                        35.45571         1   \n",
       "ENERSOL RECASENS SL                                   34.89629      n.d.   \n",
       "\n",
       "                                                              Area  \\\n",
       "Name                                                                 \n",
       "SCA HYGIENE PRODUCTS SL                                  INDUSTRIA   \n",
       "LEAR CORPORATION HOLDING SPAIN SLU                       INDUSTRIA   \n",
       "COVESTRO SL.                              PETROQUÍMICA Y PLÁSTICOS   \n",
       "ASOCIACIÓN NUCLEAR ASCÓ VANDELLÓS II AIE  AGUA, ENERGÍA Y RESIDUOS   \n",
       "BASF SONATRACH PROPANCHEM SA              PETROQUÍMICA Y PLÁSTICOS   \n",
       "...                                                            ...   \n",
       "TRIPER SA                                 AGUA, ENERGÍA Y RESIDUOS   \n",
       "ESPAI SOTA ZERO SL.                       AGUA, ENERGÍA Y RESIDUOS   \n",
       "SOLARNAU ENERGIA SL                       AGUA, ENERGÍA Y RESIDUOS   \n",
       "MARBET 2010 SL                            AGUA, ENERGÍA Y RESIDUOS   \n",
       "ENERSOL RECASENS SL                       AGUA, ENERGÍA Y RESIDUOS   \n",
       "\n",
       "                                                Region  Benefits_in_thousands  \n",
       "Name                                                                           \n",
       "SCA HYGIENE PRODUCTS SL                       ALT CAMP                    NaN  \n",
       "LEAR CORPORATION HOLDING SPAIN SLU            ALT CAMP            28332.00000  \n",
       "COVESTRO SL.                                TARRAGONES                    NaN  \n",
       "ASOCIACIÓN NUCLEAR ASCÓ VANDELLÓS II AIE     BAIX CAMP                    NaN  \n",
       "BASF SONATRACH PROPANCHEM SA                TARRAGONES            50710.00000  \n",
       "...                                                ...                    ...  \n",
       "TRIPER SA                                      MONTSIÀ              575.71088  \n",
       "ESPAI SOTA ZERO SL.                          BAIX EBRE              -21.78402  \n",
       "SOLARNAU ENERGIA SL                          BAIX CAMP               10.25944  \n",
       "MARBET 2010 SL                            BAIX PENEDES               -6.35468  \n",
       "ENERSOL RECASENS SL                       BAIX PENEDES              -12.20039  \n",
       "\n",
       "[809 rows x 5 columns]"
      ]
     },
     "execution_count": 223,
     "metadata": {},
     "output_type": "execute_result"
    }
   ],
   "source": [
    "companies_by_name"
   ]
  },
  {
   "cell_type": "code",
   "execution_count": 224,
   "metadata": {},
   "outputs": [],
   "source": [
    "top_r = companies_by_name.sort_values('Revenue_in_thousands', ascending=False).head(10)"
   ]
  },
  {
   "cell_type": "code",
   "execution_count": 225,
   "metadata": {},
   "outputs": [
    {
     "data": {
      "text/html": [
       "<div>\n",
       "<style scoped>\n",
       "    .dataframe tbody tr th:only-of-type {\n",
       "        vertical-align: middle;\n",
       "    }\n",
       "\n",
       "    .dataframe tbody tr th {\n",
       "        vertical-align: top;\n",
       "    }\n",
       "\n",
       "    .dataframe thead th {\n",
       "        text-align: right;\n",
       "    }\n",
       "</style>\n",
       "<table border=\"1\" class=\"dataframe\">\n",
       "  <thead>\n",
       "    <tr style=\"text-align: right;\">\n",
       "      <th></th>\n",
       "      <th>Revenue_in_thousands</th>\n",
       "      <th>Employees</th>\n",
       "      <th>Area</th>\n",
       "      <th>Region</th>\n",
       "      <th>Benefits_in_thousands</th>\n",
       "    </tr>\n",
       "    <tr>\n",
       "      <th>Name</th>\n",
       "      <th></th>\n",
       "      <th></th>\n",
       "      <th></th>\n",
       "      <th></th>\n",
       "      <th></th>\n",
       "    </tr>\n",
       "  </thead>\n",
       "  <tbody>\n",
       "    <tr>\n",
       "      <th>BORGES INTERNATIONAL GROUP SL.</th>\n",
       "      <td>675000.000000</td>\n",
       "      <td>1047</td>\n",
       "      <td>AGROALIMENTARIO</td>\n",
       "      <td>BAIX CAMP</td>\n",
       "      <td>5784.00000</td>\n",
       "    </tr>\n",
       "    <tr>\n",
       "      <th>SCA HYGIENE PRODUCTS SL</th>\n",
       "      <td>618000.000000</td>\n",
       "      <td>1200</td>\n",
       "      <td>INDUSTRIA</td>\n",
       "      <td>ALT CAMP</td>\n",
       "      <td>NaN</td>\n",
       "    </tr>\n",
       "    <tr>\n",
       "      <th>LEAR CORPORATION HOLDING SPAIN SLU</th>\n",
       "      <td>506088.000000</td>\n",
       "      <td>1216</td>\n",
       "      <td>INDUSTRIA</td>\n",
       "      <td>ALT CAMP</td>\n",
       "      <td>28332.00000</td>\n",
       "    </tr>\n",
       "    <tr>\n",
       "      <th>COVESTRO SL.</th>\n",
       "      <td>300592.000000</td>\n",
       "      <td>344</td>\n",
       "      <td>PETROQUÍMICA Y PLÁSTICOS</td>\n",
       "      <td>TARRAGONES</td>\n",
       "      <td>NaN</td>\n",
       "    </tr>\n",
       "    <tr>\n",
       "      <th>ASOCIACIÓN NUCLEAR ASCÓ VANDELLÓS II AIE</th>\n",
       "      <td>276654.000000</td>\n",
       "      <td>1047</td>\n",
       "      <td>AGUA, ENERGÍA Y RESIDUOS</td>\n",
       "      <td>BAIX CAMP</td>\n",
       "      <td>NaN</td>\n",
       "    </tr>\n",
       "    <tr>\n",
       "      <th>BASF SONATRACH PROPANCHEM SA</th>\n",
       "      <td>276019.000000</td>\n",
       "      <td>11</td>\n",
       "      <td>PETROQUÍMICA Y PLÁSTICOS</td>\n",
       "      <td>TARRAGONES</td>\n",
       "      <td>50710.00000</td>\n",
       "    </tr>\n",
       "    <tr>\n",
       "      <th>MAHLE BEHR SPAIN SA.</th>\n",
       "      <td>248858.847000</td>\n",
       "      <td>781</td>\n",
       "      <td>INDUSTRIA</td>\n",
       "      <td>CONCA DE BARBERÀ</td>\n",
       "      <td>5989.94800</td>\n",
       "    </tr>\n",
       "    <tr>\n",
       "      <th>PORT AVENTURA ENTERTAINMENT SAU</th>\n",
       "      <td>194150.000000</td>\n",
       "      <td>1727</td>\n",
       "      <td>HOSTELERÍA Y TURISMO</td>\n",
       "      <td>TARRAGONES</td>\n",
       "      <td>29931.00000</td>\n",
       "    </tr>\n",
       "    <tr>\n",
       "      <th>PAVO Y DERIVADOS SA</th>\n",
       "      <td>189534.811399</td>\n",
       "      <td>693</td>\n",
       "      <td>AGROALIMENTARIO</td>\n",
       "      <td>MONTSIÀ</td>\n",
       "      <td>8870.39323</td>\n",
       "    </tr>\n",
       "    <tr>\n",
       "      <th>APPLUS IDIADA</th>\n",
       "      <td>180383.000000</td>\n",
       "      <td>2152</td>\n",
       "      <td>AUTOMOCIÓN</td>\n",
       "      <td>BAIX PENEDES</td>\n",
       "      <td>13897.00000</td>\n",
       "    </tr>\n",
       "  </tbody>\n",
       "</table>\n",
       "</div>"
      ],
      "text/plain": [
       "                                          Revenue_in_thousands Employees  \\\n",
       "Name                                                                       \n",
       "BORGES INTERNATIONAL GROUP SL.                   675000.000000      1047   \n",
       "SCA HYGIENE PRODUCTS SL                          618000.000000      1200   \n",
       "LEAR CORPORATION HOLDING SPAIN SLU               506088.000000      1216   \n",
       "COVESTRO SL.                                     300592.000000       344   \n",
       "ASOCIACIÓN NUCLEAR ASCÓ VANDELLÓS II AIE         276654.000000      1047   \n",
       "BASF SONATRACH PROPANCHEM SA                     276019.000000        11   \n",
       "MAHLE BEHR SPAIN SA.                             248858.847000       781   \n",
       "PORT AVENTURA ENTERTAINMENT SAU                  194150.000000      1727   \n",
       "PAVO Y DERIVADOS SA                              189534.811399       693   \n",
       "APPLUS IDIADA                                    180383.000000      2152   \n",
       "\n",
       "                                                              Area  \\\n",
       "Name                                                                 \n",
       "BORGES INTERNATIONAL GROUP SL.                     AGROALIMENTARIO   \n",
       "SCA HYGIENE PRODUCTS SL                                  INDUSTRIA   \n",
       "LEAR CORPORATION HOLDING SPAIN SLU                       INDUSTRIA   \n",
       "COVESTRO SL.                              PETROQUÍMICA Y PLÁSTICOS   \n",
       "ASOCIACIÓN NUCLEAR ASCÓ VANDELLÓS II AIE  AGUA, ENERGÍA Y RESIDUOS   \n",
       "BASF SONATRACH PROPANCHEM SA              PETROQUÍMICA Y PLÁSTICOS   \n",
       "MAHLE BEHR SPAIN SA.                                     INDUSTRIA   \n",
       "PORT AVENTURA ENTERTAINMENT SAU               HOSTELERÍA Y TURISMO   \n",
       "PAVO Y DERIVADOS SA                                AGROALIMENTARIO   \n",
       "APPLUS IDIADA                                           AUTOMOCIÓN   \n",
       "\n",
       "                                                    Region  \\\n",
       "Name                                                         \n",
       "BORGES INTERNATIONAL GROUP SL.                   BAIX CAMP   \n",
       "SCA HYGIENE PRODUCTS SL                           ALT CAMP   \n",
       "LEAR CORPORATION HOLDING SPAIN SLU                ALT CAMP   \n",
       "COVESTRO SL.                                    TARRAGONES   \n",
       "ASOCIACIÓN NUCLEAR ASCÓ VANDELLÓS II AIE         BAIX CAMP   \n",
       "BASF SONATRACH PROPANCHEM SA                    TARRAGONES   \n",
       "MAHLE BEHR SPAIN SA.                      CONCA DE BARBERÀ   \n",
       "PORT AVENTURA ENTERTAINMENT SAU                 TARRAGONES   \n",
       "PAVO Y DERIVADOS SA                                MONTSIÀ   \n",
       "APPLUS IDIADA                                 BAIX PENEDES   \n",
       "\n",
       "                                          Benefits_in_thousands  \n",
       "Name                                                             \n",
       "BORGES INTERNATIONAL GROUP SL.                       5784.00000  \n",
       "SCA HYGIENE PRODUCTS SL                                     NaN  \n",
       "LEAR CORPORATION HOLDING SPAIN SLU                  28332.00000  \n",
       "COVESTRO SL.                                                NaN  \n",
       "ASOCIACIÓN NUCLEAR ASCÓ VANDELLÓS II AIE                    NaN  \n",
       "BASF SONATRACH PROPANCHEM SA                        50710.00000  \n",
       "MAHLE BEHR SPAIN SA.                                 5989.94800  \n",
       "PORT AVENTURA ENTERTAINMENT SAU                     29931.00000  \n",
       "PAVO Y DERIVADOS SA                                  8870.39323  \n",
       "APPLUS IDIADA                                       13897.00000  "
      ]
     },
     "execution_count": 225,
     "metadata": {},
     "output_type": "execute_result"
    }
   ],
   "source": [
    "top_r"
   ]
  },
  {
   "cell_type": "code",
   "execution_count": 226,
   "metadata": {},
   "outputs": [],
   "source": [
    "top_b = companies_by_name.sort_values('Benefits_in_thousands', ascending=False).head(10)"
   ]
  },
  {
   "cell_type": "code",
   "execution_count": 228,
   "metadata": {},
   "outputs": [
    {
     "data": {
      "text/html": [
       "<div>\n",
       "<style scoped>\n",
       "    .dataframe tbody tr th:only-of-type {\n",
       "        vertical-align: middle;\n",
       "    }\n",
       "\n",
       "    .dataframe tbody tr th {\n",
       "        vertical-align: top;\n",
       "    }\n",
       "\n",
       "    .dataframe thead th {\n",
       "        text-align: right;\n",
       "    }\n",
       "</style>\n",
       "<table border=\"1\" class=\"dataframe\">\n",
       "  <thead>\n",
       "    <tr style=\"text-align: right;\">\n",
       "      <th></th>\n",
       "      <th>Revenue_in_thousands</th>\n",
       "      <th>Employees</th>\n",
       "      <th>Area</th>\n",
       "      <th>Region</th>\n",
       "      <th>Benefits_in_thousands</th>\n",
       "    </tr>\n",
       "    <tr>\n",
       "      <th>Name</th>\n",
       "      <th></th>\n",
       "      <th></th>\n",
       "      <th></th>\n",
       "      <th></th>\n",
       "      <th></th>\n",
       "    </tr>\n",
       "  </thead>\n",
       "  <tbody>\n",
       "    <tr>\n",
       "      <th>BASF SONATRACH PROPANCHEM SA</th>\n",
       "      <td>276019.000000</td>\n",
       "      <td>11</td>\n",
       "      <td>PETROQUÍMICA Y PLÁSTICOS</td>\n",
       "      <td>TARRAGONES</td>\n",
       "      <td>50710.00000</td>\n",
       "    </tr>\n",
       "    <tr>\n",
       "      <th>PORT AVENTURA ENTERTAINMENT SAU</th>\n",
       "      <td>194150.000000</td>\n",
       "      <td>1727</td>\n",
       "      <td>HOSTELERÍA Y TURISMO</td>\n",
       "      <td>TARRAGONES</td>\n",
       "      <td>29931.00000</td>\n",
       "    </tr>\n",
       "    <tr>\n",
       "      <th>LEAR CORPORATION HOLDING SPAIN SLU</th>\n",
       "      <td>506088.000000</td>\n",
       "      <td>1216</td>\n",
       "      <td>INDUSTRIA</td>\n",
       "      <td>ALT CAMP</td>\n",
       "      <td>28332.00000</td>\n",
       "    </tr>\n",
       "    <tr>\n",
       "      <th>APPLUS IDIADA</th>\n",
       "      <td>180383.000000</td>\n",
       "      <td>2152</td>\n",
       "      <td>AUTOMOCIÓN</td>\n",
       "      <td>BAIX PENEDES</td>\n",
       "      <td>13897.00000</td>\n",
       "    </tr>\n",
       "    <tr>\n",
       "      <th>BIC-IBERIA SA</th>\n",
       "      <td>88224.544000</td>\n",
       "      <td>221</td>\n",
       "      <td>INDUSTRIA</td>\n",
       "      <td>TARRAGONES</td>\n",
       "      <td>13001.01900</td>\n",
       "    </tr>\n",
       "    <tr>\n",
       "      <th>TERESA Y JOSÉ PLANA EMPRESA PLANA SLU.</th>\n",
       "      <td>39135.813430</td>\n",
       "      <td>391</td>\n",
       "      <td>TRANSPORTE Y LOGISTICA</td>\n",
       "      <td>TARRAGONES</td>\n",
       "      <td>9755.25501</td>\n",
       "    </tr>\n",
       "    <tr>\n",
       "      <th>PAVO Y DERIVADOS SA</th>\n",
       "      <td>189534.811399</td>\n",
       "      <td>693</td>\n",
       "      <td>AGROALIMENTARIO</td>\n",
       "      <td>MONTSIÀ</td>\n",
       "      <td>8870.39323</td>\n",
       "    </tr>\n",
       "    <tr>\n",
       "      <th>ANDRÉS PINTALUBA SA</th>\n",
       "      <td>159816.948760</td>\n",
       "      <td>109</td>\n",
       "      <td>AGROALIMENTARIO</td>\n",
       "      <td>BAIX CAMP</td>\n",
       "      <td>8780.62758</td>\n",
       "    </tr>\n",
       "    <tr>\n",
       "      <th>LABORATORIOS MAVERICK SL</th>\n",
       "      <td>124266.505080</td>\n",
       "      <td>447</td>\n",
       "      <td>INDUSTRIA</td>\n",
       "      <td>MONTSIÀ</td>\n",
       "      <td>8536.61799</td>\n",
       "    </tr>\n",
       "    <tr>\n",
       "      <th>HIERROS DEL MEDITERRANEO SA</th>\n",
       "      <td>44304.960000</td>\n",
       "      <td>82</td>\n",
       "      <td>COMERCIO Y DISTRIBUCIÓN</td>\n",
       "      <td>BAIX CAMP</td>\n",
       "      <td>7344.80200</td>\n",
       "    </tr>\n",
       "  </tbody>\n",
       "</table>\n",
       "</div>"
      ],
      "text/plain": [
       "                                        Revenue_in_thousands Employees  \\\n",
       "Name                                                                     \n",
       "BASF SONATRACH PROPANCHEM SA                   276019.000000        11   \n",
       "PORT AVENTURA ENTERTAINMENT SAU                194150.000000      1727   \n",
       "LEAR CORPORATION HOLDING SPAIN SLU             506088.000000      1216   \n",
       "APPLUS IDIADA                                  180383.000000      2152   \n",
       "BIC-IBERIA SA                                   88224.544000       221   \n",
       "TERESA Y JOSÉ PLANA EMPRESA PLANA SLU.          39135.813430       391   \n",
       "PAVO Y DERIVADOS SA                            189534.811399       693   \n",
       "ANDRÉS PINTALUBA SA                            159816.948760       109   \n",
       "LABORATORIOS MAVERICK SL                       124266.505080       447   \n",
       "HIERROS DEL MEDITERRANEO SA                     44304.960000        82   \n",
       "\n",
       "                                                            Area  \\\n",
       "Name                                                               \n",
       "BASF SONATRACH PROPANCHEM SA            PETROQUÍMICA Y PLÁSTICOS   \n",
       "PORT AVENTURA ENTERTAINMENT SAU             HOSTELERÍA Y TURISMO   \n",
       "LEAR CORPORATION HOLDING SPAIN SLU                     INDUSTRIA   \n",
       "APPLUS IDIADA                                         AUTOMOCIÓN   \n",
       "BIC-IBERIA SA                                          INDUSTRIA   \n",
       "TERESA Y JOSÉ PLANA EMPRESA PLANA SLU.    TRANSPORTE Y LOGISTICA   \n",
       "PAVO Y DERIVADOS SA                              AGROALIMENTARIO   \n",
       "ANDRÉS PINTALUBA SA                              AGROALIMENTARIO   \n",
       "LABORATORIOS MAVERICK SL                               INDUSTRIA   \n",
       "HIERROS DEL MEDITERRANEO SA              COMERCIO Y DISTRIBUCIÓN   \n",
       "\n",
       "                                              Region  Benefits_in_thousands  \n",
       "Name                                                                         \n",
       "BASF SONATRACH PROPANCHEM SA              TARRAGONES            50710.00000  \n",
       "PORT AVENTURA ENTERTAINMENT SAU           TARRAGONES            29931.00000  \n",
       "LEAR CORPORATION HOLDING SPAIN SLU          ALT CAMP            28332.00000  \n",
       "APPLUS IDIADA                           BAIX PENEDES            13897.00000  \n",
       "BIC-IBERIA SA                             TARRAGONES            13001.01900  \n",
       "TERESA Y JOSÉ PLANA EMPRESA PLANA SLU.    TARRAGONES             9755.25501  \n",
       "PAVO Y DERIVADOS SA                          MONTSIÀ             8870.39323  \n",
       "ANDRÉS PINTALUBA SA                        BAIX CAMP             8780.62758  \n",
       "LABORATORIOS MAVERICK SL                     MONTSIÀ             8536.61799  \n",
       "HIERROS DEL MEDITERRANEO SA                BAIX CAMP             7344.80200  "
      ]
     },
     "execution_count": 228,
     "metadata": {},
     "output_type": "execute_result"
    }
   ],
   "source": [
    "top_b"
   ]
  },
  {
   "cell_type": "code",
   "execution_count": 229,
   "metadata": {},
   "outputs": [],
   "source": [
    "empl_filter1 = companies_by_name['Employees'] == 'n.d.'\n",
    "top_e = companies_by_name[~empl_filter1].sort_values('Employees', ascending=False).head(10)"
   ]
  },
  {
   "cell_type": "code",
   "execution_count": 230,
   "metadata": {},
   "outputs": [
    {
     "data": {
      "text/html": [
       "<div>\n",
       "<style scoped>\n",
       "    .dataframe tbody tr th:only-of-type {\n",
       "        vertical-align: middle;\n",
       "    }\n",
       "\n",
       "    .dataframe tbody tr th {\n",
       "        vertical-align: top;\n",
       "    }\n",
       "\n",
       "    .dataframe thead th {\n",
       "        text-align: right;\n",
       "    }\n",
       "</style>\n",
       "<table border=\"1\" class=\"dataframe\">\n",
       "  <thead>\n",
       "    <tr style=\"text-align: right;\">\n",
       "      <th></th>\n",
       "      <th>Revenue_in_thousands</th>\n",
       "      <th>Employees</th>\n",
       "      <th>Area</th>\n",
       "      <th>Region</th>\n",
       "      <th>Benefits_in_thousands</th>\n",
       "    </tr>\n",
       "    <tr>\n",
       "      <th>Name</th>\n",
       "      <th></th>\n",
       "      <th></th>\n",
       "      <th></th>\n",
       "      <th></th>\n",
       "      <th></th>\n",
       "    </tr>\n",
       "  </thead>\n",
       "  <tbody>\n",
       "    <tr>\n",
       "      <th>APPLUS IDIADA</th>\n",
       "      <td>180383.00000</td>\n",
       "      <td>2152</td>\n",
       "      <td>AUTOMOCIÓN</td>\n",
       "      <td>BAIX PENEDES</td>\n",
       "      <td>13897.00000</td>\n",
       "    </tr>\n",
       "    <tr>\n",
       "      <th>PORT AVENTURA ENTERTAINMENT SAU</th>\n",
       "      <td>194150.00000</td>\n",
       "      <td>1727</td>\n",
       "      <td>HOSTELERÍA Y TURISMO</td>\n",
       "      <td>TARRAGONES</td>\n",
       "      <td>29931.00000</td>\n",
       "    </tr>\n",
       "    <tr>\n",
       "      <th>GRUPO NAVEC SERVICIOS INDUSTRIALES SL</th>\n",
       "      <td>117563.06800</td>\n",
       "      <td>1251</td>\n",
       "      <td>PETROQUÍMICA Y PLÁSTICOS</td>\n",
       "      <td>TARRAGONES</td>\n",
       "      <td>597.85400</td>\n",
       "    </tr>\n",
       "    <tr>\n",
       "      <th>LEAR CORPORATION HOLDING SPAIN SLU</th>\n",
       "      <td>506088.00000</td>\n",
       "      <td>1216</td>\n",
       "      <td>INDUSTRIA</td>\n",
       "      <td>ALT CAMP</td>\n",
       "      <td>28332.00000</td>\n",
       "    </tr>\n",
       "    <tr>\n",
       "      <th>SCA HYGIENE PRODUCTS SL</th>\n",
       "      <td>618000.00000</td>\n",
       "      <td>1200</td>\n",
       "      <td>INDUSTRIA</td>\n",
       "      <td>ALT CAMP</td>\n",
       "      <td>NaN</td>\n",
       "    </tr>\n",
       "    <tr>\n",
       "      <th>FRAGADÍS SL</th>\n",
       "      <td>155813.30994</td>\n",
       "      <td>1104</td>\n",
       "      <td>COMERCIO Y DISTRIBUCIÓN</td>\n",
       "      <td>TARRAGONES</td>\n",
       "      <td>2259.61481</td>\n",
       "    </tr>\n",
       "    <tr>\n",
       "      <th>HOSPITAL DE SANT JOAN DE REUS SAM</th>\n",
       "      <td>127062.39890</td>\n",
       "      <td>1093</td>\n",
       "      <td>SANIDAD, SALUD Y BIENESTAR</td>\n",
       "      <td>BAIX CAMP</td>\n",
       "      <td>23.88468</td>\n",
       "    </tr>\n",
       "    <tr>\n",
       "      <th>ASOCIACIÓN NUCLEAR ASCÓ VANDELLÓS II AIE</th>\n",
       "      <td>276654.00000</td>\n",
       "      <td>1047</td>\n",
       "      <td>AGUA, ENERGÍA Y RESIDUOS</td>\n",
       "      <td>BAIX CAMP</td>\n",
       "      <td>NaN</td>\n",
       "    </tr>\n",
       "    <tr>\n",
       "      <th>BORGES INTERNATIONAL GROUP SL.</th>\n",
       "      <td>675000.00000</td>\n",
       "      <td>1047</td>\n",
       "      <td>AGROALIMENTARIO</td>\n",
       "      <td>BAIX CAMP</td>\n",
       "      <td>5784.00000</td>\n",
       "    </tr>\n",
       "    <tr>\n",
       "      <th>MAHLE BEHR SPAIN SA.</th>\n",
       "      <td>248858.84700</td>\n",
       "      <td>781</td>\n",
       "      <td>INDUSTRIA</td>\n",
       "      <td>CONCA DE BARBERÀ</td>\n",
       "      <td>5989.94800</td>\n",
       "    </tr>\n",
       "  </tbody>\n",
       "</table>\n",
       "</div>"
      ],
      "text/plain": [
       "                                          Revenue_in_thousands Employees  \\\n",
       "Name                                                                       \n",
       "APPLUS IDIADA                                     180383.00000      2152   \n",
       "PORT AVENTURA ENTERTAINMENT SAU                   194150.00000      1727   \n",
       "GRUPO NAVEC SERVICIOS INDUSTRIALES SL             117563.06800      1251   \n",
       "LEAR CORPORATION HOLDING SPAIN SLU                506088.00000      1216   \n",
       "SCA HYGIENE PRODUCTS SL                           618000.00000      1200   \n",
       "FRAGADÍS SL                                       155813.30994      1104   \n",
       "HOSPITAL DE SANT JOAN DE REUS SAM                 127062.39890      1093   \n",
       "ASOCIACIÓN NUCLEAR ASCÓ VANDELLÓS II AIE          276654.00000      1047   \n",
       "BORGES INTERNATIONAL GROUP SL.                    675000.00000      1047   \n",
       "MAHLE BEHR SPAIN SA.                              248858.84700       781   \n",
       "\n",
       "                                                                Area  \\\n",
       "Name                                                                   \n",
       "APPLUS IDIADA                                             AUTOMOCIÓN   \n",
       "PORT AVENTURA ENTERTAINMENT SAU                 HOSTELERÍA Y TURISMO   \n",
       "GRUPO NAVEC SERVICIOS INDUSTRIALES SL       PETROQUÍMICA Y PLÁSTICOS   \n",
       "LEAR CORPORATION HOLDING SPAIN SLU                         INDUSTRIA   \n",
       "SCA HYGIENE PRODUCTS SL                                    INDUSTRIA   \n",
       "FRAGADÍS SL                                  COMERCIO Y DISTRIBUCIÓN   \n",
       "HOSPITAL DE SANT JOAN DE REUS SAM         SANIDAD, SALUD Y BIENESTAR   \n",
       "ASOCIACIÓN NUCLEAR ASCÓ VANDELLÓS II AIE    AGUA, ENERGÍA Y RESIDUOS   \n",
       "BORGES INTERNATIONAL GROUP SL.                       AGROALIMENTARIO   \n",
       "MAHLE BEHR SPAIN SA.                                       INDUSTRIA   \n",
       "\n",
       "                                                    Region  \\\n",
       "Name                                                         \n",
       "APPLUS IDIADA                                 BAIX PENEDES   \n",
       "PORT AVENTURA ENTERTAINMENT SAU                 TARRAGONES   \n",
       "GRUPO NAVEC SERVICIOS INDUSTRIALES SL           TARRAGONES   \n",
       "LEAR CORPORATION HOLDING SPAIN SLU                ALT CAMP   \n",
       "SCA HYGIENE PRODUCTS SL                           ALT CAMP   \n",
       "FRAGADÍS SL                                     TARRAGONES   \n",
       "HOSPITAL DE SANT JOAN DE REUS SAM                BAIX CAMP   \n",
       "ASOCIACIÓN NUCLEAR ASCÓ VANDELLÓS II AIE         BAIX CAMP   \n",
       "BORGES INTERNATIONAL GROUP SL.                   BAIX CAMP   \n",
       "MAHLE BEHR SPAIN SA.                      CONCA DE BARBERÀ   \n",
       "\n",
       "                                          Benefits_in_thousands  \n",
       "Name                                                             \n",
       "APPLUS IDIADA                                       13897.00000  \n",
       "PORT AVENTURA ENTERTAINMENT SAU                     29931.00000  \n",
       "GRUPO NAVEC SERVICIOS INDUSTRIALES SL                 597.85400  \n",
       "LEAR CORPORATION HOLDING SPAIN SLU                  28332.00000  \n",
       "SCA HYGIENE PRODUCTS SL                                     NaN  \n",
       "FRAGADÍS SL                                          2259.61481  \n",
       "HOSPITAL DE SANT JOAN DE REUS SAM                      23.88468  \n",
       "ASOCIACIÓN NUCLEAR ASCÓ VANDELLÓS II AIE                    NaN  \n",
       "BORGES INTERNATIONAL GROUP SL.                       5784.00000  \n",
       "MAHLE BEHR SPAIN SA.                                 5989.94800  "
      ]
     },
     "execution_count": 230,
     "metadata": {},
     "output_type": "execute_result"
    }
   ],
   "source": [
    "top_e"
   ]
  },
  {
   "cell_type": "code",
   "execution_count": 232,
   "metadata": {},
   "outputs": [
    {
     "data": {
      "text/plain": [
       "(Index(['BASF SONATRACH PROPANCHEM SA', 'PORT AVENTURA ENTERTAINMENT SAU',\n",
       "        'LEAR CORPORATION HOLDING SPAIN SLU', 'APPLUS IDIADA', 'BIC-IBERIA SA',\n",
       "        'TERESA Y JOSÉ PLANA EMPRESA PLANA SLU.', 'PAVO Y DERIVADOS SA',\n",
       "        'ANDRÉS PINTALUBA SA', 'LABORATORIOS MAVERICK SL',\n",
       "        'HIERROS DEL MEDITERRANEO SA'],\n",
       "       dtype='object', name='Name'),\n",
       " Index(['BORGES INTERNATIONAL GROUP SL.', 'SCA HYGIENE PRODUCTS SL',\n",
       "        'LEAR CORPORATION HOLDING SPAIN SLU', 'COVESTRO SL.',\n",
       "        'ASOCIACIÓN NUCLEAR ASCÓ VANDELLÓS II AIE',\n",
       "        'BASF SONATRACH PROPANCHEM SA', 'MAHLE BEHR SPAIN SA.',\n",
       "        'PORT AVENTURA ENTERTAINMENT SAU', 'PAVO Y DERIVADOS SA',\n",
       "        'APPLUS IDIADA'],\n",
       "       dtype='object', name='Name'),\n",
       " Index(['APPLUS IDIADA', 'PORT AVENTURA ENTERTAINMENT SAU',\n",
       "        'GRUPO NAVEC SERVICIOS INDUSTRIALES SL',\n",
       "        'LEAR CORPORATION HOLDING SPAIN SLU', 'SCA HYGIENE PRODUCTS SL',\n",
       "        'FRAGADÍS SL', 'HOSPITAL DE SANT JOAN DE REUS SAM',\n",
       "        'ASOCIACIÓN NUCLEAR ASCÓ VANDELLÓS II AIE',\n",
       "        'BORGES INTERNATIONAL GROUP SL.', 'MAHLE BEHR SPAIN SA.'],\n",
       "       dtype='object', name='Name'),\n",
       " pandas.core.indexes.base.Index)"
      ]
     },
     "execution_count": 232,
     "metadata": {},
     "output_type": "execute_result"
    }
   ],
   "source": [
    "top_b.index, top_r.index, top_e.index"
   ]
  },
  {
   "cell_type": "code",
   "execution_count": 236,
   "metadata": {},
   "outputs": [
    {
     "name": "stdout",
     "output_type": "stream",
     "text": [
      "tak\n"
     ]
    }
   ],
   "source": [
    "c_dict = {\"BASF SONATRACH PROPANCHEM SA\": 1}\n",
    "for el in top_b.index:\n",
    "    if el in c_dict:\n",
    "        print('tak')"
   ]
  },
  {
   "cell_type": "code",
   "execution_count": null,
   "metadata": {},
   "outputs": [],
   "source": []
  }
 ],
 "metadata": {
  "kernelspec": {
   "display_name": "Python 3",
   "language": "python",
   "name": "python3"
  },
  "language_info": {
   "codemirror_mode": {
    "name": "ipython",
    "version": 3
   },
   "file_extension": ".py",
   "mimetype": "text/x-python",
   "name": "python",
   "nbconvert_exporter": "python",
   "pygments_lexer": "ipython3",
   "version": "3.7.6"
  }
 },
 "nbformat": 4,
 "nbformat_minor": 4
}
